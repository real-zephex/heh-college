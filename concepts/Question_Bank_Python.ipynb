{
  "cells": [
    {
      "cell_type": "markdown",
      "metadata": {
        "id": "E-UMrPTZP_WB"
      },
      "source": [
        "1. **Explain the difference between while and for loops in Python**\n",
        "\n",
        " Ans) **While Loop**: A while loop repeatedly executes a block of code as long as the condition remains true. It checks the condition before each iteration, making it ideal when the number of iterations is not known in advance.\n",
        "\n",
        " **For Loop**: A for loop executes a block of code a specific number of times by explicitly defining the initialization, condition, and iteration in one line. It’s commonly used when the number of iterations is known beforehand.\n"
      ]
    },
    {
      "cell_type": "code",
      "execution_count": 3,
      "metadata": {
        "colab": {
          "base_uri": "https://localhost:8080/"
        },
        "id": "iEfXyJRmQB2T",
        "outputId": "7a63820d-7bf4-4c64-e673-316c21e82132"
      },
      "outputs": [
        {
          "name": "stdout",
          "output_type": "stream",
          "text": [
            "Hi 0\n",
            "Hi 1\n",
            "Hi 2\n",
            "Hi 3\n",
            "Hi 4\n",
            "Hi 5\n"
          ]
        }
      ],
      "source": [
        "# While loop\n",
        "num = 0\n",
        "while num <= 5:\n",
        "  print(\"Hi\", num)\n",
        "  num += 1"
      ]
    },
    {
      "cell_type": "code",
      "execution_count": 4,
      "metadata": {
        "colab": {
          "base_uri": "https://localhost:8080/"
        },
        "id": "9RNZTDUCRERe",
        "outputId": "17ffcd1a-90b7-4f5f-f99c-54ffb551ac72"
      },
      "outputs": [
        {
          "name": "stdout",
          "output_type": "stream",
          "text": [
            "Hi 0\n",
            "Hi 1\n",
            "Hi 2\n",
            "Hi 3\n",
            "Hi 4\n",
            "Hi 5\n"
          ]
        }
      ],
      "source": [
        "# For loop\n",
        "for num in range(0, 6):\n",
        "  print(\"Hi\", num)"
      ]
    },
    {
      "cell_type": "markdown",
      "metadata": {
        "id": "0vmZcMvNRU-i"
      },
      "source": [
        "**2. What is the purpose of the else clause in a loop? Give an example.**\n",
        "\n",
        "Ans) The else block is executed at the completion of a loop."
      ]
    },
    {
      "cell_type": "code",
      "execution_count": 5,
      "metadata": {
        "colab": {
          "base_uri": "https://localhost:8080/"
        },
        "id": "LS8DwGNf8CoW",
        "outputId": "79a007d1-f2ae-4065-e6da-ebcdb743b4e2"
      },
      "outputs": [
        {
          "name": "stdout",
          "output_type": "stream",
          "text": [
            "i = 1\n",
            "i = 2\n",
            "i = 3\n",
            "i = 4\n",
            "i = 5\n",
            "else block is executed\n"
          ]
        }
      ],
      "source": [
        "i=0\n",
        "while i<5:\n",
        "  i+=1\n",
        "  print(\"i =\", i)\n",
        "\n",
        "else:\n",
        "  print(\"else block is executed\")"
      ]
    },
    {
      "cell_type": "markdown",
      "metadata": {
        "id": "_AHo-68a8Iai"
      },
      "source": [
        "**3. Write a Python program to find whether the number is prime or not using a while loop.**"
      ]
    },
    {
      "cell_type": "code",
      "execution_count": 6,
      "metadata": {
        "colab": {
          "base_uri": "https://localhost:8080/"
        },
        "id": "QzZ7z7Eh8K2V",
        "outputId": "73640803-63d2-4b5e-de2a-ae8e79aa9227"
      },
      "outputs": [
        {
          "ename": "ValueError",
          "evalue": "invalid literal for int() with base 10: ''",
          "output_type": "error",
          "traceback": [
            "\u001b[0;31m---------------------------------------------------------------------------\u001b[0m",
            "\u001b[0;31mValueError\u001b[0m                                Traceback (most recent call last)",
            "Cell \u001b[0;32mIn[6], line 1\u001b[0m\n\u001b[0;32m----> 1\u001b[0m number \u001b[38;5;241m=\u001b[39m \u001b[38;5;28;43mint\u001b[39;49m\u001b[43m(\u001b[49m\u001b[38;5;28;43minput\u001b[39;49m\u001b[43m(\u001b[49m\u001b[38;5;124;43m\"\u001b[39;49m\u001b[38;5;124;43mEnter number: \u001b[39;49m\u001b[38;5;124;43m\"\u001b[39;49m\u001b[43m)\u001b[49m\u001b[43m)\u001b[49m\n\u001b[1;32m      2\u001b[0m start \u001b[38;5;241m=\u001b[39m \u001b[38;5;241m2\u001b[39m\n\u001b[1;32m      4\u001b[0m \u001b[38;5;28;01mwhile\u001b[39;00m start \u001b[38;5;241m<\u001b[39m number:\n",
            "\u001b[0;31mValueError\u001b[0m: invalid literal for int() with base 10: ''"
          ]
        }
      ],
      "source": [
        "number = int(input(\"Enter number: \"))\n",
        "start = 2\n",
        "\n",
        "while start < number:\n",
        "  if number % start == 0:\n",
        "    print(\"Not Prime\")\n",
        "    break\n",
        "  start += 1\n",
        "else:\n",
        "  print(\"Prime\")"
      ]
    },
    {
      "cell_type": "markdown",
      "metadata": {
        "id": "73SMXPCa8aYq"
      },
      "source": [
        "**4. Create a program that uses a for loop with range() to print all even numbers between 1 and 50.**"
      ]
    },
    {
      "cell_type": "code",
      "execution_count": null,
      "metadata": {
        "id": "sDqRh-uu8dC2"
      },
      "outputs": [],
      "source": [
        "for i in range(1, 51):\n",
        "  if i % 2 == 0:\n",
        "    print(i)"
      ]
    },
    {
      "cell_type": "markdown",
      "metadata": {
        "id": "ObPKBrkH8p9_"
      },
      "source": [
        "**5. Use nested for loops to print a multiplication table for numbers from 1 to 10.**"
      ]
    },
    {
      "cell_type": "code",
      "execution_count": null,
      "metadata": {
        "colab": {
          "base_uri": "https://localhost:8080/"
        },
        "id": "GhjLvQOq8rlG",
        "outputId": "cca2f579-4581-46da-f26a-77d118162881"
      },
      "outputs": [],
      "source": [
        "for i in range(1, 11):\n",
        "  print(f\"Multiplicationt table of {i}\")\n",
        "  for j in range(1, 11):\n",
        "    print(i*j, end=\"\\t\")\n",
        "  print(\"\\n\")"
      ]
    },
    {
      "cell_type": "markdown",
      "metadata": {
        "id": "69vFn0KL86WP"
      },
      "source": [
        "**6. Write a program that demonstrates the use of the break statement.**"
      ]
    },
    {
      "cell_type": "code",
      "execution_count": null,
      "metadata": {
        "colab": {
          "base_uri": "https://localhost:8080/"
        },
        "id": "MqPxjxSp8-mF",
        "outputId": "a4dd1e17-6eee-4a80-be97-ba08946b8dc7"
      },
      "outputs": [],
      "source": [
        "for i in range(1, 10):\n",
        "  if i % 2 != 0:\n",
        "    print(\"Odd number detected\", i)\n",
        "    break"
      ]
    },
    {
      "cell_type": "markdown",
      "metadata": {
        "id": "2ZGos1gQ9L8G"
      },
      "source": [
        "**7. Create a Python script that skips all multiples of 3 between 1 and 20 using continue.**"
      ]
    },
    {
      "cell_type": "code",
      "execution_count": null,
      "metadata": {
        "colab": {
          "base_uri": "https://localhost:8080/"
        },
        "id": "dtmMQQ7U9PMZ",
        "outputId": "1ad68e19-cb5d-4662-ed1c-a0c645d19ba3"
      },
      "outputs": [],
      "source": [
        "for i in range(1, 21):\n",
        "  if (i % 3 == 0):\n",
        "    continue\n",
        "  print(i)"
      ]
    },
    {
      "cell_type": "markdown",
      "metadata": {
        "id": "0-g5e4Lr9Yu-"
      },
      "source": [
        "**8. Differentiate between built-in functions and user-defined functions in Python.**\n",
        "\n",
        "Ans) Built-in functions come pre-packaged with Python and are ready to use without any need for importing.\n",
        "\n",
        "User-defined functions are created by developers to perform specific tasks as per their requirements. These functions help make code modular, reusable, and easier to maintain.\n"
      ]
    },
    {
      "cell_type": "code",
      "execution_count": null,
      "metadata": {
        "colab": {
          "base_uri": "https://localhost:8080/"
        },
        "id": "6dlaTf7m9r4U",
        "outputId": "e030b593-309e-4117-dd85-339100359993"
      },
      "outputs": [],
      "source": [
        "name = \"Sam\"\n",
        "print(name.upper()) # .upper() is a built-in funciton\n",
        "\n",
        "# This is a user-defined funciton.\n",
        "def func(name: str):\n",
        "  for i in name:\n",
        "    print(i*2)\n",
        "\n",
        "func(name)"
      ]
    },
    {
      "cell_type": "markdown",
      "metadata": {
        "id": "na1LcjOx-A11"
      },
      "source": [
        "**9. Explain the difference between local, global, and nonlocal variables.**\n",
        "\n",
        "Ans)\n",
        "1. Local scoped variables are defined inside a function or a code block (for loop, while loop)\n",
        "2. Global variables are generally defined at the top of the program and are accessible anywhere in the program.\n",
        "3. Nonlocal variables are used within nested functions where the variable doesn't belong to the inner functiion."
      ]
    },
    {
      "cell_type": "code",
      "execution_count": null,
      "metadata": {
        "id": "F3hqIpjC-pCc"
      },
      "outputs": [],
      "source": [
        "# Locally scoped variables\n",
        "def func():\n",
        "  x = 10\n",
        "  print(x)"
      ]
    },
    {
      "cell_type": "code",
      "execution_count": null,
      "metadata": {
        "colab": {
          "base_uri": "https://localhost:8080/"
        },
        "id": "HFVSRWgx-xOX",
        "outputId": "06e00334-4898-4a6c-88c4-3b34fb38bbba"
      },
      "outputs": [],
      "source": [
        "# Global scoped variables\n",
        "global x\n",
        "x = 10\n",
        "def func():\n",
        "  print(x)\n",
        "\n",
        "func()"
      ]
    },
    {
      "cell_type": "code",
      "execution_count": null,
      "metadata": {
        "colab": {
          "base_uri": "https://localhost:8080/"
        },
        "id": "WpKYd0fg_Fcj",
        "outputId": "5cd7ed85-005d-4764-d274-bf9d8a36d9d9"
      },
      "outputs": [],
      "source": [
        "# Nonlocal variables\n",
        "def func():\n",
        "  x = 10\n",
        "  def func2():\n",
        "    nonlocal x\n",
        "    x = 20\n",
        "    print(x)\n",
        "  func2()\n",
        "func()"
      ]
    },
    {
      "cell_type": "markdown",
      "metadata": {
        "id": "5Vcb-iCb_bhR"
      },
      "source": [
        "**10. What is recursion? Discuss its advantages and disadvantages.**\n",
        "\n",
        "Ans) A function is said to be recursive when it calls itself and the process is called recursion.\n",
        "\n",
        "Advantages:\n",
        "1. Increases code reusability.\n",
        "2. Makes the code easier to understand.\n",
        "\n",
        "Disadvantages:\n",
        "1. If handled improperly, may lead to infinite recursion.\n",
        "2. Even a slight error can cause the program to crash."
      ]
    },
    {
      "cell_type": "code",
      "execution_count": null,
      "metadata": {
        "colab": {
          "base_uri": "https://localhost:8080/"
        },
        "id": "9y_VJ6Bh_1Eq",
        "outputId": "ba3f7b44-fb00-4810-e784-986379a2b218"
      },
      "outputs": [],
      "source": [
        "def factorial(n):\n",
        "  if (n == 1):\n",
        "    return n\n",
        "  else:\n",
        "    return n * factorial(n-1)\n",
        "\n",
        "print(factorial(5))"
      ]
    },
    {
      "cell_type": "markdown",
      "metadata": {
        "id": "XxmR74KFAP8l"
      },
      "source": [
        "**11. Write a user-defined function to calculate the nth Fibonacci number using recursion.**"
      ]
    },
    {
      "cell_type": "code",
      "execution_count": null,
      "metadata": {
        "colab": {
          "base_uri": "https://localhost:8080/"
        },
        "id": "tgJOIYBCAVJm",
        "outputId": "44193518-9e66-4dd8-be4e-65dabfe0ffda"
      },
      "outputs": [],
      "source": [
        "def fibonacci(n):\n",
        "     if n <= 1:\n",
        "       return n\n",
        "     else:\n",
        "       return fibonacci(n - 1) + fibonacci(n - 2)\n",
        "\n",
        "print(fibonacci(4))"
      ]
    },
    {
      "cell_type": "markdown",
      "metadata": {
        "id": "qRO7S_G9TCPU"
      },
      "source": [
        "**12. Create a program to demonstrate the use of default and keyword arguments.**"
      ]
    },
    {
      "cell_type": "code",
      "execution_count": null,
      "metadata": {
        "colab": {
          "base_uri": "https://localhost:8080/"
        },
        "id": "U3cGqeU2TEp_",
        "outputId": "d20bf4dd-bd03-49ba-ef67-15e4c72065b3"
      },
      "outputs": [],
      "source": [
        "def func(name: str = \"Rakesh\", age: int = 30):\n",
        "  print(name, age)\n",
        "\n",
        "# keyword arguements\n",
        "func(age=20, name=\"Sam\")\n",
        "\n",
        "# default arguements\n",
        "func()"
      ]
    },
    {
      "cell_type": "markdown",
      "metadata": {
        "id": "uZd66cN6TWMI"
      },
      "source": [
        "**13. Write a Python program to calculate the sum of a variable number of arguments using args**"
      ]
    },
    {
      "cell_type": "code",
      "execution_count": null,
      "metadata": {
        "colab": {
          "base_uri": "https://localhost:8080/"
        },
        "id": "TNV0ocA0Tbkm",
        "outputId": "6fa9a09e-eb49-4ad1-e7c5-2859cd326cc4"
      },
      "outputs": [],
      "source": [
        "def func(*args):\n",
        "  return sum(args)\n",
        "\n",
        "foo = func(1, 2, 3, 4, 5)\n",
        "print(foo)"
      ]
    },
    {
      "cell_type": "markdown",
      "metadata": {
        "id": "3gxHpx4ZTnaN"
      },
      "source": [
        "**14. Demonstrate the use of nested functions in Python.**\n",
        "\n",
        "Ans) Benefits of nested functions are:\n",
        "1. Data encapsulaiton"
      ]
    },
    {
      "cell_type": "code",
      "execution_count": null,
      "metadata": {
        "colab": {
          "base_uri": "https://localhost:8080/"
        },
        "id": "oSHHPYkJTuj9",
        "outputId": "d4a272d1-4a44-4639-e851-82e89e1056aa"
      },
      "outputs": [],
      "source": [
        "def dog():\n",
        "  def bark():\n",
        "    print(\"Woof\")\n",
        "  bark()\n",
        "\n",
        "dog()"
      ]
    },
    {
      "cell_type": "markdown",
      "metadata": {
        "id": "htMwumLSUO_C"
      },
      "source": [
        "2. Closures"
      ]
    },
    {
      "cell_type": "code",
      "execution_count": null,
      "metadata": {
        "colab": {
          "base_uri": "https://localhost:8080/"
        },
        "id": "mp1btL1lUTgh",
        "outputId": "b94fe85b-bd9a-4be2-860e-3a6a6b2d6b1d"
      },
      "outputs": [],
      "source": [
        "def num1(x):\n",
        "  def num2(y):\n",
        "    return x + y\n",
        "  return num2\n",
        "\n",
        "print(num1(10)(5))"
      ]
    },
    {
      "cell_type": "markdown",
      "metadata": {
        "id": "aFZ4hdYZUakg"
      },
      "source": [
        "**15. Write a program for finding whether a string is a palindrome using function**"
      ]
    },
    {
      "cell_type": "code",
      "execution_count": null,
      "metadata": {
        "colab": {
          "base_uri": "https://localhost:8080/"
        },
        "id": "UbfUclnNUcEy",
        "outputId": "f2425c50-5b91-4708-a591-c9c386c4aace"
      },
      "outputs": [],
      "source": [
        "def palindromeCheck(word: str):\n",
        "  wordList = [i for i in word]\n",
        "  if wordList == wordList[::-1]:\n",
        "    return True\n",
        "  else:\n",
        "    return False\n",
        "\n",
        "userInput = input(\"Enter word: \")\n",
        "palindromeResult = palindromeCheck(userInput)\n",
        "\n",
        "if (palindromeResult):\n",
        "  print(f\"{userInput} is a palindrome.\")\n",
        "else:\n",
        "  print(f\"{userInput} is not a palindrome.\")"
      ]
    },
    {
      "cell_type": "markdown",
      "metadata": {
        "id": "uX0SxomxU_JY"
      },
      "source": [
        "**16. Explain how the map() and filter() functions work with lambda expressions. Provide examples.**\n",
        "\n",
        "Ans) Syntax:\n",
        "1. Map: `list(map(func, iterable))`\n",
        "2. Filter:  `list(filter(func, iterable))`"
      ]
    },
    {
      "cell_type": "code",
      "execution_count": null,
      "metadata": {
        "colab": {
          "base_uri": "https://localhost:8080/"
        },
        "id": "9-tpydFDVBSS",
        "outputId": "1a1334af-22e5-4c0e-831d-1baae1c67ede"
      },
      "outputs": [],
      "source": [
        "# Map\n",
        "\n",
        "data = [1, 2, 3, 4, 5, 6, 7, 8, 9, 10]\n",
        "newList = list(map(lambda x: x*2, data))\n",
        "print(newList)\n",
        "\n",
        "# Filter\n",
        "data = [1, 2, 3, 4, 5, 6, 7, 8, 9, 10]\n",
        "newList = list(filter(lambda x: x % 2 == 0, data))\n",
        "print(newList)"
      ]
    },
    {
      "cell_type": "markdown",
      "metadata": {
        "id": "22LK7tQKVt45"
      },
      "source": [
        "**17. Write a Python program to pass one function as an argument to another.**"
      ]
    },
    {
      "cell_type": "code",
      "execution_count": null,
      "metadata": {
        "colab": {
          "base_uri": "https://localhost:8080/"
        },
        "id": "v8fsERbFWd8A",
        "outputId": "3e83792a-ad9c-4b1d-f066-372955ac73e6"
      },
      "outputs": [],
      "source": [
        "def func(foo):\n",
        "  return foo.upper()\n",
        "\n",
        "def greetings():\n",
        "  return \"Hello\"\n",
        "\n",
        "print(func(greetings()))"
      ]
    },
    {
      "cell_type": "markdown",
      "metadata": {
        "id": "1oBSJgCMWz8D"
      },
      "source": [
        "**18. Define abstraction and encapsulation with examples in Python.**\n",
        "\n",
        "Ans) 1.  **Abstract method** of base class force its child class to write the implementation of the all abstract methods defined in base class.\n",
        "\n",
        "2. **Encapsulation** prevents direct access to class variables to prevent accidental modification of data.\n",
        "\n",
        "There are 2 types of encapsulation:\n",
        "1. `Private`: Privately marked class variables cannot be accessed outside the class.\n",
        "2. `Protected`: Protected class variables can be accessed outside the class but we don't often do it due to convention."
      ]
    },
    {
      "cell_type": "code",
      "execution_count": null,
      "metadata": {
        "colab": {
          "base_uri": "https://localhost:8080/"
        },
        "id": "8MJuJIcvYG3r",
        "outputId": "862a0f84-1f5d-46a1-871c-50a8a126c982"
      },
      "outputs": [],
      "source": [
        "from abc import ABC, abstractmethod\n",
        "\n",
        "# Abstract method\n",
        "class Human:\n",
        "\n",
        "  @abstractmethod\n",
        "  def walk():\n",
        "    pass\n",
        "\n",
        "class Man(Human):\n",
        "  def walk():\n",
        "    print(\"Walking\")\n",
        "\n",
        "Man.walk()"
      ]
    },
    {
      "cell_type": "code",
      "execution_count": null,
      "metadata": {
        "id": "pQ12zBV4YgfY"
      },
      "outputs": [],
      "source": [
        "# Encapsulaiton\n",
        "\n",
        "class Human:\n",
        "  def __init__(self, name, age, gender):\n",
        "    self.name = name\n",
        "    self._age = age # Protected\n",
        "    self.__gender = gender # Private\n",
        "\n",
        "h = Human(\"Sumit\", 18, \"Male\")\n",
        "print(h.name)\n",
        "print(h._age)\n",
        "print(h.__gender) # Cannot be accessed, will give an error if tried to"
      ]
    },
    {
      "cell_type": "markdown",
      "metadata": {
        "id": "rc6gV02zZNbz"
      },
      "source": [
        "**19. What is the role of constructors in Python? Differentiate between constructors with and without parameters.**\n",
        "\n",
        "Ans) Constructors in python are used when defining classes. THey initialize the class object and initializes the required class attricutes.\n",
        "\n",
        "Passing parameters to the constructor means that we are declaring custom attributes. When no custom constructor `(__init__)` is defined, Python provides a default constructor that initializes the object with default values for attributes."
      ]
    },
    {
      "cell_type": "code",
      "execution_count": null,
      "metadata": {
        "id": "uUHAraqGaIu6"
      },
      "outputs": [],
      "source": [
        "class Human():\n",
        "  def __init__(self, name, age, gender):\n",
        "    self.name = name\n",
        "    self.age = age\n",
        "    self.gender = gender\n",
        "\n",
        "class Foo:\n",
        "  def func():\n",
        "    print(\"Hello\")\n",
        "\n",
        "h = Human(\"Sumit\", 18, \"Male\")\n",
        "f = Foo()"
      ]
    },
    {
      "cell_type": "markdown",
      "metadata": {
        "id": "dpgTJwJ_1hUX"
      },
      "source": [
        "**20. Explain the difference between method overloading and method overriding.**\n",
        "\n",
        "Ans)\n",
        "**Method overloading**\n",
        "\n",
        "Method overloading refers to defining multiple functions with the same name but different arguements.\n",
        "\n",
        "**Method overriding**\n",
        "\n",
        "When a subclass provides a specific implementation for a function which is already defined in the parent class is called method overriding."
      ]
    },
    {
      "cell_type": "code",
      "execution_count": null,
      "metadata": {
        "colab": {
          "base_uri": "https://localhost:8080/"
        },
        "id": "9z39dpH44iHy",
        "outputId": "95cf082a-9ece-4d15-c073-b772fa9071f3"
      },
      "outputs": [],
      "source": [
        "# Method overloading\n",
        "from multipledispatch import dispatch\n",
        "\n",
        "class Foo:\n",
        "  @dispatch(int, int)\n",
        "  def func(a, b):\n",
        "    return a + b\n",
        "\n",
        "  @dispatch(int, int, int)\n",
        "  def func(a, b, c):\n",
        "    return a + b + c\n",
        "\n",
        "f = Foo()\n",
        "print(f.func(1, 2))\n",
        "print(f.func(1, 2, 3))"
      ]
    },
    {
      "cell_type": "code",
      "execution_count": null,
      "metadata": {
        "colab": {
          "base_uri": "https://localhost:8080/"
        },
        "id": "HrAK8Czb4-jF",
        "outputId": "dac0993f-eb82-4e43-ec55-9e6c7b6f4e4b"
      },
      "outputs": [],
      "source": [
        "# Method overriding\n",
        "class Foo:\n",
        "  def func(self):\n",
        "    print(\"Parent\")\n",
        "\n",
        "class Bar(Foo):\n",
        "  def func(self):\n",
        "    print(\"Child\")\n",
        "\n",
        "b = Bar()\n",
        "b.func()"
      ]
    },
    {
      "cell_type": "markdown",
      "metadata": {
        "id": "JblraVIh5Q_8"
      },
      "source": [
        "**21. Write a Python class to manage employee details with methods to calculate salary and display**"
      ]
    },
    {
      "cell_type": "code",
      "execution_count": null,
      "metadata": {
        "colab": {
          "base_uri": "https://localhost:8080/"
        },
        "id": "AM9QRs025TVz",
        "outputId": "ae48c95a-eec2-41b8-e61e-dc85c2795b14"
      },
      "outputs": [],
      "source": [
        "class Employee:\n",
        "  def __init__(self, empid, name, gender, phone, salary, bonus = 0):\n",
        "    self.empid = empid\n",
        "    self.name = name\n",
        "    self.gender = gender\n",
        "    self.phone = phone\n",
        "    self.salary = salary\n",
        "    self.bonus = bonus\n",
        "\n",
        "  def calculateSalary(self):\n",
        "    return self.salary + self.bonus\n",
        "\n",
        "  def displayDetails(self):\n",
        "    print(f\"Name: {self.name}\")\n",
        "    print(f\"Gender: {self.gender}\")\n",
        "    print(f\"Phone: {self.phone}\")\n",
        "    print(f\"Salary: {self.salary}\")\n",
        "    print(f\"Bonus: {self.bonus}\")\n",
        "\n",
        "e = Employee(123, \"Ram\", \"Male\", \"9878943456\", 8000, 4000)\n",
        "print(e.calculateSalary())\n",
        "e.displayDetails()"
      ]
    },
    {
      "cell_type": "markdown",
      "metadata": {
        "id": "cje47gCa6AB1"
      },
      "source": [
        "**22. Create a program to demonstrate single, multi-level, and multiple inheritance.**"
      ]
    },
    {
      "cell_type": "code",
      "execution_count": null,
      "metadata": {
        "colab": {
          "base_uri": "https://localhost:8080/"
        },
        "id": "r5SOHBdz6DN7",
        "outputId": "5312423d-f4c2-475a-c536-d05db31c5675"
      },
      "outputs": [],
      "source": [
        "# Single Level Inheritance\n",
        "class Parent:\n",
        "  def foo(self):\n",
        "    print(\"Parent\")\n",
        "\n",
        "class Child(Parent):\n",
        "  def bar(self):\n",
        "    print(\"Child\")\n",
        "\n",
        "c = Child().bar()"
      ]
    },
    {
      "cell_type": "code",
      "execution_count": null,
      "metadata": {
        "colab": {
          "base_uri": "https://localhost:8080/"
        },
        "id": "gBMawszY6NQr",
        "outputId": "0f08d51a-13d5-4ffa-c357-639aa129af51"
      },
      "outputs": [],
      "source": [
        "# Multi-Level Inheritance\n",
        "class Animal:\n",
        "  def breathe(self):\n",
        "    print(\"Breathing\")\n",
        "\n",
        "class Mammal(Animal):\n",
        "  def walk(self):\n",
        "    print(\"Walking\")\n",
        "\n",
        "class Dog(Mammal):\n",
        "  def bark(self):\n",
        "    print(\"Barking\")\n",
        "\n",
        "d = Dog()\n",
        "d.breathe()\n",
        "d.bark()"
      ]
    },
    {
      "cell_type": "code",
      "execution_count": null,
      "metadata": {
        "colab": {
          "base_uri": "https://localhost:8080/"
        },
        "id": "NwjMAY416evK",
        "outputId": "131230b1-1c48-446f-d848-c85fd2b4a1c9"
      },
      "outputs": [],
      "source": [
        "# Multiple Inheritance\n",
        "class Foo:\n",
        "  def foo(self):\n",
        "    print(\"Foo\")\n",
        "\n",
        "class Bar:\n",
        "  def bar(self):\n",
        "    print(\"Bar\")\n",
        "\n",
        "class FooBar(Foo, Bar):\n",
        "  def foobar(self):\n",
        "    print(\"FooBar\")\n",
        "\n",
        "fb = FooBar()\n",
        "fb.foobar()"
      ]
    },
    {
      "cell_type": "markdown",
      "metadata": {
        "id": "aFhha7wf6n_T"
      },
      "source": [
        "**23. Implement operator overloading for the addition operator (+) in a custom class.**"
      ]
    },
    {
      "cell_type": "code",
      "execution_count": null,
      "metadata": {
        "colab": {
          "base_uri": "https://localhost:8080/"
        },
        "id": "_2WNZRmi6rMC",
        "outputId": "80353b10-810a-4373-e2fc-a79acae0e448"
      },
      "outputs": [],
      "source": [
        "class Foo:\n",
        "  def __init__(self, x):\n",
        "    self.x = x\n",
        "\n",
        "  def __add__(self, other):\n",
        "    return self.x + other.x\n",
        "\n",
        "f = Foo(10)\n",
        "b = Foo(20)\n",
        "print(f + b)"
      ]
    },
    {
      "cell_type": "markdown",
      "metadata": {
        "id": "x30S6C5z64JR"
      },
      "source": [
        "**24. Write a Python script to handle multiple exceptions in a program if the number divisible to zero ( try , except, finally and else )**"
      ]
    },
    {
      "cell_type": "code",
      "execution_count": null,
      "metadata": {
        "colab": {
          "base_uri": "https://localhost:8080/"
        },
        "id": "t8BVRAC16_hV",
        "outputId": "c856ce70-330b-4110-f0b6-ab1b554f8b78"
      },
      "outputs": [],
      "source": [
        "try:\n",
        "  num = int(input(\"Enter number: \"))\n",
        "  print(20 / num)\n",
        "except ZeroDivisionError as e:\n",
        "  print(\"Cannot divide a number by zero.\")\n",
        "else:\n",
        "  print(\"Divided successfully.\")\n",
        "finally:\n",
        "  print(\"Execution complete.\")"
      ]
    },
    {
      "cell_type": "markdown",
      "metadata": {
        "id": "7jFRrm-Y7rKN"
      },
      "source": [
        "**25. Create a program that demonstrates the use of raise and assert statements.**"
      ]
    },
    {
      "cell_type": "code",
      "execution_count": null,
      "metadata": {
        "colab": {
          "base_uri": "https://localhost:8080/"
        },
        "id": "gx-hAvII7uxo",
        "outputId": "ee57e2a0-3255-4271-e300-1317cb7825a4"
      },
      "outputs": [],
      "source": [
        "def foo(num):\n",
        "  assert num > 0, \"number should be greater than 0\"\n",
        "  return num**2\n",
        "\n",
        "try:\n",
        "  print(foo(-1))\n",
        "except AssertionError as e:\n",
        "  print(e)"
      ]
    },
    {
      "cell_type": "markdown",
      "metadata": {
        "id": "173PptVL7642"
      },
      "source": [
        "**26. Write a Python program to read a text file line by line and count the number of lines.**"
      ]
    },
    {
      "cell_type": "code",
      "execution_count": null,
      "metadata": {
        "colab": {
          "base_uri": "https://localhost:8080/"
        },
        "id": "XZDudhAO8JIg",
        "outputId": "0ea58314-00b3-46e1-934d-c1b3b48afd20"
      },
      "outputs": [],
      "source": [
        "with open(\"sample.txt\", \"r\") as file:\n",
        "  lines = file.readlines()\n",
        "  print(len(lines))\n",
        "  for line in lines:\n",
        "    print(line)"
      ]
    },
    {
      "cell_type": "markdown",
      "metadata": {
        "id": "2hJwsbwG8U5C"
      },
      "source": [
        "**27. Create a script to append content to an existing file and read its contents.**"
      ]
    },
    {
      "cell_type": "code",
      "execution_count": null,
      "metadata": {
        "colab": {
          "base_uri": "https://localhost:8080/"
        },
        "id": "0gvZU0D68XSp",
        "outputId": "3647886c-ae96-499a-ebd4-7c44e2adf40e"
      },
      "outputs": [],
      "source": [
        "with open(\"sample.txt\", \"a\") as file:\n",
        "  file.write(\"This is a new line.\\n\")\n",
        "\n",
        "with open(\"sample.txt\", \"r\") as file:\n",
        "  print(file.read())"
      ]
    },
    {
      "cell_type": "markdown",
      "metadata": {
        "id": "D_YTANbb8iL3"
      },
      "source": [
        "**28. Demonstrate the use of seek() and tell() methods in file handling.**\n",
        "\n",
        "Ans) The `seek()` and `tell()` methods are used to manipulate and query the file pointer's position when working with file objects.\n",
        "\n",
        "**`seek()` method**\n",
        "\n",
        "Seek method is used to move the file pointer to a specific position in the file.\n",
        "\n",
        "**`tell()` method**\n",
        "\n",
        "Tell method returns the current position of the file pointer."
      ]
    },
    {
      "cell_type": "code",
      "execution_count": null,
      "metadata": {
        "colab": {
          "base_uri": "https://localhost:8080/"
        },
        "id": "uDyOuQ2x_I7L",
        "outputId": "1a24cae8-e0a5-4e7e-bfcf-883829d7a4c7"
      },
      "outputs": [],
      "source": [
        "with open(\"temp.txt\", \"w\") as file:\n",
        "    file.write(\"Hello, this is a sample file.\\nThis file is used for testing.\")\n",
        "\n",
        "with open(\"temp.txt\", \"r\") as file:\n",
        "  # Initial position of the pointer\n",
        "  print(f\"Initial pointer position: {file.tell()}\")\n",
        "\n",
        "  # Reading the first 5 characters of the file\n",
        "  print(f\"Read: {file.read(5)}\")\n",
        "  print(f\"Pointer position after reading: {file.tell()}\") # this will return the position of the file pointer\n",
        "\n",
        "  file.seek(0) # Move the file pointer to the start\n",
        "  print(f\"Pointer position after seeking: {file.tell()}\")\n",
        "\n",
        "  file.seek(0, 2) # Move the file pointer to end\n",
        "  print(f\"Pointer position at the end: {file.tell()}\")"
      ]
    },
    {
      "cell_type": "markdown",
      "metadata": {
        "id": "xmiAypK9_6r9"
      },
      "source": [
        "**29. Explain the difference between built-in and user-defined modules in Python.**\n",
        "\n",
        "Ans) Built-in methods are pre-defined functions or methods provided by Python's standard library. They are readily available and require no additional code or import to use. Example: `print()`, `len()`, `type()`\n",
        "\n",
        "User-defined modules are Python files created by developers to organize and reuse code. These modules can contain functions, classes, and variables defined by the user."
      ]
    },
    {
      "cell_type": "code",
      "execution_count": null,
      "metadata": {
        "colab": {
          "base_uri": "https://localhost:8080/"
        },
        "id": "MKoL_E2apG2_",
        "outputId": "37c83940-986f-49a3-bba1-7853f3f6c3b2"
      },
      "outputs": [],
      "source": [
        "# Built-in methods\n",
        "a = \"hello\"\n",
        "print(a)\n",
        "print(len(a))\n",
        "print(type(a))"
      ]
    },
    {
      "cell_type": "code",
      "execution_count": null,
      "metadata": {
        "colab": {
          "base_uri": "https://localhost:8080/"
        },
        "id": "0_mYEl_h_8_8",
        "outputId": "5b37b333-9618-4973-9373-483b83957fde"
      },
      "outputs": [],
      "source": [
        "# User defined modules\n",
        "def add(x: int, y: int) -> int:\n",
        "  return x + y\n",
        "\n",
        "print(add(2, 3))"
      ]
    },
    {
      "cell_type": "markdown",
      "metadata": {
        "id": "I1DurabCAtiF"
      },
      "source": [
        "**30. Demonstrate the use of the math and datetime modules with examples.**"
      ]
    },
    {
      "cell_type": "code",
      "execution_count": null,
      "metadata": {
        "colab": {
          "base_uri": "https://localhost:8080/"
        },
        "id": "CqAuFHVyAx2A",
        "outputId": "54fd0706-13a0-4afa-e3a5-166f3488cb0a"
      },
      "outputs": [],
      "source": [
        "# Math module\n",
        "import math\n",
        "\n",
        "num1 = 10\n",
        "num2 = 20\n",
        "\n",
        "print(math.cos(num1))\n",
        "print(math.sin(num2))\n",
        "print(math.factorial(num1))\n",
        "print(math.log(num2))\n",
        "print(math.log10(num1))\n",
        "print(math.pi)\n",
        "print(math.pow(num2, 2))"
      ]
    },
    {
      "cell_type": "code",
      "execution_count": null,
      "metadata": {
        "colab": {
          "base_uri": "https://localhost:8080/"
        },
        "id": "RszXljHRBWiP",
        "outputId": "a65ee6d3-692c-4046-a80c-afbcd7f1d1a9"
      },
      "outputs": [],
      "source": [
        "# Datetime module\n",
        "import datetime\n",
        "\n",
        "print(datetime.datetime.now())\n",
        "print(datetime.datetime.now().date())\n",
        "print(datetime.datetime.now().time())\n",
        "\n",
        "print(datetime.datetime.now().strftime(\"%y-%m-%d %H:%M:%S\"))\n",
        "print(datetime.datetime.now().strftime(\"%d-%m-%y %H:%M:%S\"))"
      ]
    },
    {
      "cell_type": "markdown",
      "metadata": {
        "id": "AIB4SLmDCgKL"
      },
      "source": [
        "**31. Write a Python script to generate random numbers using the random module.**"
      ]
    },
    {
      "cell_type": "code",
      "execution_count": null,
      "metadata": {
        "colab": {
          "base_uri": "https://localhost:8080/"
        },
        "id": "CiWK8M5hDEWF",
        "outputId": "c309df3e-8f4d-4c2b-85d3-c7fc0237033e"
      },
      "outputs": [],
      "source": [
        "import random\n",
        "\n",
        "def gen(llimit: int, ulimit: int):\n",
        "  return random.randint(llimit, ulimit)\n",
        "\n",
        "print(gen(1, 10))"
      ]
    },
    {
      "cell_type": "markdown",
      "metadata": {
        "id": "61XMAGau96hH"
      },
      "source": [
        "**32. What are character classes in regular expressions? Provide examples**\n",
        "\n",
        "Ans) Character classes are a feature of regular expressions (regex) used to match specific types or ranges of characters in strings.\n",
        "1. Metacharacters\n",
        "2. Special sequence\n",
        "3. Sets\n",
        "\n",
        "**Metacharacters**\n",
        "\n",
        "Metacharacters are special symbols or characters that have unique meanings and are used to define patterns for matching text.\n",
        "Example: `[]`, `^`, `$`, `*`, `?` etc.\n",
        "\n",
        "**Special sequence**\n",
        "\n",
        "These are preceeded by `\\` sign and are shorthand notations that represent common patters such as numerical values, alphabets or alphanumeric.\n",
        "Example: `\\w`, `\\s`, `\\d` etc.\n",
        "\n",
        "**Sets**\n",
        "\n",
        "A set is a series of character inside square brackets. They return a match only if all or some of the characters inside the brackets are present in the string.\n",
        "Example: `[abc]`, `[0-9]` etc."
      ]
    },
    {
      "cell_type": "markdown",
      "metadata": {
        "id": "Jzv2J-_w_urI"
      },
      "source": [
        "**33. Differentiate between greedy and non-greedy matches in regular expressions.**\n",
        "\n",
        "Ans) **Greedy matches**\n",
        "\n",
        "1. A greedy quantifier tries to match the longest possible substring that satisfies the regex pattern.\n",
        "2. It extends till the longest pattern before backtracking.\n",
        "\n",
        "*quantifier*: it defines how many times a pattern should match. eg: `*`, `+`, `?`\n",
        "\n",
        "**Non-greedy matches**\n",
        "\n",
        "1. A non greedy quantifer tried to match the shortest possible substring that satisifies the regex pattern. eg: `*?`, `+?`, `??`\n",
        "2. It backtracks as soon as it finds a match.\n"
      ]
    },
    {
      "cell_type": "markdown",
      "metadata": {
        "id": "xvtTRvRvNwtK"
      },
      "source": [
        "34. Write a Python program to:\n",
        "\n",
        "• Find all occurrences of a pattern in a given string.\n",
        "\n",
        "• Replace a pattern with a new string using re.sub().\n",
        "\n",
        "• Split a string into substrings using re.split()."
      ]
    },
    {
      "cell_type": "code",
      "execution_count": null,
      "metadata": {
        "colab": {
          "base_uri": "https://localhost:8080/"
        },
        "id": "q4ywMHGvNzwd",
        "outputId": "b2d9b5a7-63c0-4f05-84b6-65ef6248dcc4"
      },
      "outputs": [],
      "source": [
        "import re\n",
        "\n",
        "text = \"The quick brown fox jumps over 13 lazy dogs and runs 42 miles.\"\n",
        "pattern = r'[a-z]{4}|\\d*'\n",
        "\n",
        "matches = re.findall(re.compile(pattern), text)\n",
        "print(list(filter(lambda x: x != \"\", matches)))"
      ]
    },
    {
      "cell_type": "code",
      "execution_count": null,
      "metadata": {
        "colab": {
          "base_uri": "https://localhost:8080/"
        },
        "id": "yIzPqK4pOQww",
        "outputId": "e1cf4ea4-7007-4fe4-ed4f-161772542c26"
      },
      "outputs": [],
      "source": [
        "import re\n",
        "\n",
        "text = \"The quick brown fox jumps over 13 lazy dogs and runs 42 miles.\"\n",
        "pattern = r'\\d'\n",
        "\n",
        "matches = re.sub(re.compile(pattern), \" -this is the changed part- \", text)\n",
        "print(matches)"
      ]
    },
    {
      "cell_type": "code",
      "execution_count": null,
      "metadata": {
        "colab": {
          "base_uri": "https://localhost:8080/"
        },
        "id": "EqTQzoxJO6P8",
        "outputId": "2a196af8-aa4f-43d2-ad78-f7ac281e2f1d"
      },
      "outputs": [],
      "source": [
        "import re\n",
        "\n",
        "text = \"The quick brown fox jumps over 13 lazy dogs and runs 42 miles.\"\n",
        "pattern = r'\\s'\n",
        "\n",
        "newText = re.split(re.compile(pattern), text)\n",
        "print(newText)"
      ]
    },
    {
      "cell_type": "markdown",
      "metadata": {
        "id": "sc7MfHYVQPTL"
      },
      "source": [
        "**34. Explain the difference between primitive and non-primitive data structure.**\n",
        "\n",
        "Ans) **Primitive**\n",
        "\n",
        "1. Primitive data strucutre are the most basic, pre-defined types which are provided by the programming language.\n",
        "2. Simple structures that store a single value.\n",
        "3. E.g.: `int`, `float`, `bool` etc.\n",
        "\n",
        "**Non-primitive**\n",
        "\n",
        "1. Complex types built using primitive data structures.\n",
        "2. Can store mulitple values or represent relationships between elements.\n",
        "3. E.g.: `list`, `dict`, `set` etc."
      ]
    },
    {
      "cell_type": "markdown",
      "metadata": {
        "id": "RySWbGtpReCF"
      },
      "source": [
        "**35. Write a Python program to demonstrate list comprehensions for even and odd numbers.**"
      ]
    },
    {
      "cell_type": "code",
      "execution_count": null,
      "metadata": {
        "colab": {
          "base_uri": "https://localhost:8080/"
        },
        "id": "fuVrm60KRftG",
        "outputId": "7860e045-32a5-41af-acca-683b7ec09b4f"
      },
      "outputs": [],
      "source": [
        "even = [i for i in range(21) if i % 2 == 0]\n",
        "odd = [i for i in range(21) if i % 2 != 0]\n",
        "\n",
        "print(even)\n",
        "print(odd)"
      ]
    },
    {
      "cell_type": "markdown",
      "metadata": {
        "id": "oJD_YhuAR7v0"
      },
      "source": [
        "**36. Create a dictionary comprehension using two lists.**"
      ]
    },
    {
      "cell_type": "code",
      "execution_count": null,
      "metadata": {
        "colab": {
          "base_uri": "https://localhost:8080/"
        },
        "id": "ZF4rUaljR84s",
        "outputId": "d320744c-a155-41b2-b7aa-78b05f475027"
      },
      "outputs": [],
      "source": [
        "temp1 = [\"item1\", \"item2\", \"item3\"]\n",
        "temp2 = [\"key1\", \"key2\", \"key3\"]\n",
        "\n",
        "hashMap = {k:v for k, v in zip(temp1, temp2)}\n",
        "print(hashMap)"
      ]
    },
    {
      "cell_type": "markdown",
      "metadata": {
        "id": "yBZSMPuHSbK3"
      },
      "source": [
        "**37. Explain the use of widgets in GUI programming with examples.**\n",
        "\n",
        "Ans) Widgets in GUI are used to display visual elements to improve accessibility, ease-of-use, and create appealing elements. They are often used to extend the functionality in a way that doesn't hinder the main flow of the application.\n",
        "\n",
        "They are used to allow interaction between the user and the program, providing the necessary elements for input, display, and navigation. These elements enhance accessibility, usability, and the overall user experience.\n",
        "\n",
        "Widgets include:\n",
        "1. Labels\n",
        "2. Entry box\n",
        "3. Button\n",
        "4. Checkbox\n",
        "5. Dropdown menu\n"
      ]
    },
    {
      "cell_type": "markdown",
      "metadata": {
        "id": "Bo5iZtgSTbxR"
      },
      "source": [
        "**38. Create a Python GUI application using Tkinter to accept user input and display it in a label.**"
      ]
    },
    {
      "cell_type": "markdown",
      "metadata": {
        "id": "LY3Xt51cVEQv"
      },
      "source": [
        "*Below codes will not work here, you need to run them on your system*"
      ]
    },
    {
      "cell_type": "code",
      "execution_count": null,
      "metadata": {
        "id": "IciMUrInU1-v"
      },
      "outputs": [],
      "source": [
        "import tkinter as tk\n",
        "\n",
        "window = tk.Tk()\n",
        "window.title(\"Dummy\")\n",
        "window.geometry(\"300x200\")\n",
        "\n",
        "label = tk.Label(window, text=\"Your input will be displayed here!\")\n",
        "label.pack(padx=10, pady=10)\n",
        "\n",
        "def handleChange():\n",
        "  label.config(text=entry.get())\n",
        "\n",
        "entry = tk.Entry(window)\n",
        "entry.pack(pady=10)\n",
        "\n",
        "button = tk.Button(window, text=\"Submit\", command=handleChange)\n",
        "button.pack(pady=10)\n",
        "\n",
        "window.mainloop()"
      ]
    },
    {
      "cell_type": "code",
      "execution_count": null,
      "metadata": {
        "id": "HMd-4aQEUu7B"
      },
      "outputs": [],
      "source": [
        "# Advanced method\n",
        "import tkinter as tk\n",
        "\n",
        "window = tk.Tk()\n",
        "window.title(\"Dummy\")\n",
        "window.geometry(\"300x200\")\n",
        "\n",
        "label = tk.Label(window, text=\"Your input will be displayed here!\")\n",
        "label.pack(padx=10, pady=10)\n",
        "\n",
        "def handleChange(event):\n",
        "  label.config(text=entry.get())\n",
        "\n",
        "entry = tk.Entry(window)\n",
        "entry.pack(pady=10)\n",
        "entry.bind(\"<KeyRelease>\", handleChange)\n",
        "\n",
        "\n",
        "window.mainloop()"
      ]
    },
    {
      "cell_type": "markdown",
      "metadata": {
        "id": "z3WTOEYQoFyf"
      },
      "source": [
        "**39. Write a program to demonstrate the use of check buttons, radio buttons in Tkinter, An Entry widget for user input, Two Button widgets, one for \"click me \" and another for \"Reset.\" And A Label widget to display the submitted text**"
      ]
    },
    {
      "cell_type": "code",
      "execution_count": null,
      "metadata": {
        "id": "PZR2nu5eoF94"
      },
      "outputs": [],
      "source": [
        "import tkinter as tk\n",
        "\n",
        "window = tk.Tk()\n",
        "window.title(\"Basics\")\n",
        "window.geometry(\"300x400\")\n",
        "\n",
        "def onSubmit():\n",
        "  label.config(text=f\"{\"Button checked\" if var1.get() else \"Button not checked\"} - {entry.get()}\")\n",
        "\n",
        "def onReset():\n",
        "  label.config(text=\"\")\n",
        "\n",
        "label = tk.Label(window, text=\"Data will be displayed here\")\n",
        "label.pack(pady=10)\n",
        "\n",
        "entry = tk.Entry(window)\n",
        "entry.pack(pady=10)\n",
        "\n",
        "var1 = tk.BooleanVar()\n",
        "chk1 = tk.Checkbutton(window, text=\"Option 1\", variable=var1)\n",
        "chk1.pack(pady=5)\n",
        "\n",
        "frame = tk.Frame(window)\n",
        "frame.pack(pady=10)\n",
        "\n",
        "submit = tk.Button(frame, text=\"Click me\", command=onSubmit)\n",
        "submit.grid(row=0, column=0, pady=5, padx=5)\n",
        "\n",
        "reset = tk.Button(frame, text=\"Reset\", command=onReset)\n",
        "reset.grid(row=0, column=1, pady=5, padx=5)\n",
        "\n",
        "window.mainloop()"
      ]
    },
    {
      "cell_type": "markdown",
      "metadata": {
        "id": "yXk9tJ9moTPQ"
      },
      "source": [
        "![image.png](data:image/png;base64,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)"
      ]
    },
    {
      "cell_type": "markdown",
      "metadata": {
        "id": "bKjsMUKVoUdk"
      },
      "source": [
        "**40. Explain the Big O notation and discuss its importance in analyzing algorithms.**\n",
        "\n",
        "Ans) Big O notation is a mathematical way to describe the efficiency of an algorithm in terms of time complexity (how long it takes) and space complexity (how much memory it uses).\n",
        "\n",
        "Example: O(n), O(n^2)"
      ]
    },
    {
      "cell_type": "code",
      "execution_count": null,
      "metadata": {
        "id": "XfpnFOcOj8cJ"
      },
      "outputs": [],
      "source": [
        "# O(n)\n",
        "num = 10\n",
        "for i in range(num):\n",
        "  print(i * 2)"
      ]
    },
    {
      "cell_type": "code",
      "execution_count": null,
      "metadata": {
        "colab": {
          "base_uri": "https://localhost:8080/"
        },
        "id": "CE4UCgpakMQS",
        "outputId": "6aaf60f9-cdce-4383-9b4a-5d812a63d039"
      },
      "outputs": [],
      "source": [
        "# O(n^2)\n",
        "num, num_num = 3, 3\n",
        "for i in range(num):\n",
        "  for j in range(num_num):\n",
        "    print(f\"[{i}, {j}]\", end=\" \")\n",
        "  print()"
      ]
    }
  ],
  "metadata": {
    "colab": {
      "provenance": []
    },
    "kernelspec": {
      "display_name": "Python 3",
      "name": "python3"
    },
    "language_info": {
      "codemirror_mode": {
        "name": "ipython",
        "version": 3
      },
      "file_extension": ".py",
      "mimetype": "text/x-python",
      "name": "python",
      "nbconvert_exporter": "python",
      "pygments_lexer": "ipython3",
      "version": "3.10.12"
    }
  },
  "nbformat": 4,
  "nbformat_minor": 0
}
